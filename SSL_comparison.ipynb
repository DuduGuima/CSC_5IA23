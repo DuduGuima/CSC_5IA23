{
  "cells": [
    {
      "cell_type": "markdown",
      "metadata": {},
      "source": [
        "# Fire Detection Project\n",
        "\n",
        "- Eduardo Guimarães Lino de Paula -- eduardo.guimaraes@ensta-paris.fr\n",
        "- Filipe Lacerda Benevides -- filipe.lacerda@ensta-paris.fr\n",
        "- Joaquim Minarelli Gaspar -- joaquim.gaspar@ensta-paris.fr\n",
        "- Sami Kouzeiha -- sami.kouzeiha@telecom-paris.fr"
      ]
    },
    {
      "cell_type": "markdown",
      "metadata": {},
      "source": [
        "In this Notebook, we're going to asses the accuracies of the different approaches used during the activity.\n",
        "\n",
        "We start with the conventional approach of training CNNs in a small partition of the validation set, to check the complexity of our data. "
      ]
    },
    {
      "cell_type": "code",
      "execution_count": 1,
      "metadata": {
        "id": "d3AyurraY5Rg"
      },
      "outputs": [],
      "source": [
        "import torch\n",
        "import os #for loading the data\n",
        "from torch.utils.data import DataLoader\n",
        "import kagglehub"
      ]
    },
    {
      "cell_type": "code",
      "execution_count": 2,
      "metadata": {},
      "outputs": [],
      "source": [
        "path = kagglehub.dataset_download(\"abdelghaniaaba/wildfire-prediction-dataset\")"
      ]
    },
    {
      "cell_type": "code",
      "execution_count": 3,
      "metadata": {
        "id": "Nt-gWjvoY5Ro"
      },
      "outputs": [],
      "source": [
        "#Transformations are created as cited in the report.\n",
        "from utils import create_weak_aug,create_strong_aug,create_valid_transform\n",
        "\n",
        "weak = create_weak_aug(size = (224,224))\n",
        "strong = create_strong_aug(size = (224,224))\n",
        "valid_transform = create_valid_transform(size=(224,224))"
      ]
    },
    {
      "cell_type": "code",
      "execution_count": 4,
      "metadata": {
        "id": "H4WPswzXZ-1U"
      },
      "outputs": [],
      "source": [
        "train_path = os.path.join(path,'train')\n",
        "valid_path = os.path.join(path,'valid')\n",
        "test_path = os.path.join(path,'test')"
      ]
    },
    {
      "cell_type": "code",
      "execution_count": 5,
      "metadata": {
        "id": "vFayy6QoY5Rq"
      },
      "outputs": [
        {
          "name": "stderr",
          "output_type": "stream",
          "text": [
            "Premature end of JPEG file\n"
          ]
        }
      ],
      "source": [
        "#We also use our dataset classes\n",
        "from datasets import labelled_TensorDataset, unlabelled_TensorDataset\n",
        "\n",
        "\n",
        "labelled_set = labelled_TensorDataset(name = valid_path, transform=weak)\n",
        "#for inference\n",
        "test_set = labelled_TensorDataset(name = test_path, transform=valid_transform)\n"
      ]
    },
    {
      "cell_type": "code",
      "execution_count": null,
      "metadata": {
        "id": "3_JobT79WGjE"
      },
      "outputs": [],
      "source": [
        "num_workers = 2"
      ]
    },
    {
      "cell_type": "code",
      "execution_count": 9,
      "metadata": {
        "id": "FujKBxfRY5Rs"
      },
      "outputs": [],
      "source": [
        "\n",
        "\n",
        "#testing loaders and batches\n",
        "epochs=20\n",
        "batch_size = 64\n",
        "ratio = 4\n",
        "loss_weight = 1.0\n",
        "#Optim Parameters\n",
        "lr = 1e-3\n",
        "momentum = 0.5\n",
        "weight_decay = 0.03\n",
        "nesterov=True\n",
        "\n"
      ]
    },
    {
      "cell_type": "code",
      "execution_count": 10,
      "metadata": {},
      "outputs": [],
      "source": [
        "test_loader = DataLoader(test_set,batch_size=batch_size,shuffle=True, pin_memory=True, num_workers=num_workers,persistent_workers=True)\n"
      ]
    },
    {
      "cell_type": "code",
      "execution_count": 11,
      "metadata": {
        "id": "KA5hac-yY5Ru"
      },
      "outputs": [],
      "source": [
        "from torch.nn import CrossEntropyLoss"
      ]
    },
    {
      "cell_type": "code",
      "execution_count": 12,
      "metadata": {
        "colab": {
          "base_uri": "https://localhost:8080/"
        },
        "id": "4t_kezgOY5Ru",
        "outputId": "ad3db8b0-2376-41b0-e00d-9be360066f0f"
      },
      "outputs": [],
      "source": [
        "criterion = CrossEntropyLoss()"
      ]
    },
    {
      "cell_type": "code",
      "execution_count": 13,
      "metadata": {
        "id": "zTV2cxxnY5Rv"
      },
      "outputs": [
        {
          "data": {
            "text/plain": [
              "device(type='cuda', index=0)"
            ]
          },
          "execution_count": 13,
          "metadata": {},
          "output_type": "execute_result"
        }
      ],
      "source": [
        "device = torch.device(\"cuda:0\" if torch.cuda.is_available() else \"cpu\")\n",
        "device\n"
      ]
    },
    {
      "cell_type": "code",
      "execution_count": null,
      "metadata": {
        "id": "wd75jYguY5Rv"
      },
      "outputs": [
        {
          "name": "stdout",
          "output_type": "stream",
          "text": [
            "We are training resnet_100.pth.tar\n",
            "Total accuracy for the convential resnet is: 26.14%\n",
            "We are training resnet_250.pth.tar\n",
            "Total accuracy for the convential resnet is: 14.24%\n",
            "We are training resnet_500.pth.tar\n",
            "Total accuracy for the convential resnet is: 14.24%\n",
            "We are training net_100.pth.tar\n",
            "Total accuracy for the convential net is: 17.58%\n",
            "We are training net_250.pth.tar\n",
            "Total accuracy for the convential net is: 14.24%\n",
            "We are training net_500.pth.tar\n",
            "Total accuracy for the convential net is: 14.24%\n"
          ]
        }
      ],
      "source": [
        "from utils import epoch_loop_nofix,validate\n",
        "from itertools import product\n",
        "from utils import labelset_split\n",
        "from torchvision.models.resnet import ResNet,BasicBlock\n",
        "from encoders import Net\n",
        "\n",
        "models = ['resnet','net']\n",
        "\n",
        "label_samples = [100,250,500]\n",
        "for model_str,n_labels in product(models,label_samples):\n",
        "    save_path = model_str+\"_\"+str(n_labels)+\".pth.tar\"\n",
        "    print(\"We are training \"+save_path)\n",
        "    labelled_filtered_set,val_set = labelset_split(labelled_set,n_per_label=n_labels)\n",
        "    label_loader = DataLoader(labelled_filtered_set,batch_size=batch_size,shuffle=True, pin_memory=True, num_workers=num_workers,persistent_workers=True)\n",
        "    val_loader = DataLoader(val_set,batch_size=batch_size,shuffle=True, pin_memory=True, num_workers=num_workers,persistent_workers=True)\n",
        "\n",
        "    if model_str == 'resnet':\n",
        "        model = ResNet(BasicBlock, [2, 2, 2, 2], num_classes = 2)#Configurations for ResNet18\n",
        "    if model_str == 'net':\n",
        "        model = Net()\n",
        "   \n",
        "    model.to(device)\n",
        "    \n",
        "\n",
        "    optimizer = torch.optim.SGD(model.parameters(), lr=lr,momentum=momentum, weight_decay=weight_decay,nesterov=nesterov)\n",
        "    \n",
        "\n",
        "    epoch_loop_nofix(model,label_loader,val_loader,optimizer,criterion,device,epochs,verbose=False,save_path=save_path)\n",
        "\n",
        "    _,total_acc = validate(model,test_loader,criterion,device,True)\n",
        "\n",
        "    print(\"Total accuracy for the convential {} is: {:.2f}%\".format(model_str,total_acc))\n",
        "\n"
      ]
    },
    {
      "cell_type": "markdown",
      "metadata": {},
      "source": [
        "The accuracy jumps a bit, but most results end up lower than 15%, we'll see how to SSL approaches deal with the task at hand."
      ]
    },
    {
      "cell_type": "markdown",
      "metadata": {},
      "source": [
        "## SSL\n",
        "\n",
        "### Fix Match results"
      ]
    },
    {
      "cell_type": "markdown",
      "metadata": {},
      "source": [
        "Now we use one of the trained fix match models and evaluate its accuracy for the different quantities of labeled examples used during training."
      ]
    },
    {
      "cell_type": "code",
      "execution_count": 15,
      "metadata": {},
      "outputs": [
        {
          "name": "stdout",
          "output_type": "stream",
          "text": [
            "We are training resnet0.5_100.pth.tar\n",
            "Total accuracy for the FixMatch model resnet is: 14.24%\n",
            "We are training resnet0.5_250.pth.tar\n",
            "Total accuracy for the FixMatch model resnet is: 14.24%\n",
            "We are training resnet0.5_500.pth.tar\n",
            "Total accuracy for the FixMatch model resnet is: 14.25%\n"
          ]
        }
      ],
      "source": [
        "from utils import epoch_loop_nofix,validate\n",
        "from itertools import product\n",
        "from utils import labelset_split\n",
        "from torchvision.models.resnet import ResNet,Bottleneck\n",
        "\n",
        "models = ['resnet']\n",
        "thresh_vals = [0.5]\n",
        "label_samples = [100,250,500]\n",
        "\n",
        "for model_str,value,n_labels in product(models,thresh_vals,label_samples):\n",
        "    save_path = model_str+str(value)+\"_\"+str(n_labels)+\".pth.tar\"\n",
        "    print(\"We are training \"+save_path)\n",
        "    labelled_filtered_set,val_set = labelset_split(labelled_set,n_per_label=n_labels)\n",
        "    label_loader = DataLoader(labelled_filtered_set,batch_size=batch_size,shuffle=True, pin_memory=True, num_workers=num_workers,persistent_workers=True)\n",
        "    val_loader = DataLoader(val_set,batch_size=batch_size,shuffle=True, pin_memory=True, num_workers=num_workers,persistent_workers=True)\n",
        "\n",
        "    model = ResNet(Bottleneck, [3, 4, 6, 3], num_classes = 2)#Configurations for WideResNet50\n",
        "    checkpoint = torch.load(save_path,weights_only=True)\n",
        "    model.load_state_dict(checkpoint['model_state_dict'])\n",
        "   \n",
        "    model.to(device)\n",
        "    \n",
        "\n",
        "    _,total_acc = validate(model,test_loader,criterion,device,True)\n",
        "\n",
        "    print(\"Total accuracy for the FixMatch model {} is: {:.2f}%\".format(model_str,total_acc))"
      ]
    },
    {
      "cell_type": "markdown",
      "metadata": {},
      "source": [
        "### End-to-End Learning with Encoder"
      ]
    },
    {
      "cell_type": "markdown",
      "metadata": {},
      "source": [
        "In this part, we evaluate the encoders made by ResNet18, ResNet34 and ResNet50. The models are fine-tuned in the scarse labeled set."
      ]
    },
    {
      "cell_type": "code",
      "execution_count": 14,
      "metadata": {},
      "outputs": [
        {
          "name": "stdout",
          "output_type": "stream",
          "text": [
            "We are fine-tuning resnet34_enc_weak.pth.tar with 100 images p/ label\n",
            "Total accuracy for the encoder resnet34 is: 14.25%\n",
            "We are fine-tuning resnet34_enc_weak.pth.tar with 250 images p/ label\n",
            "Total accuracy for the encoder resnet34 is: 14.24%\n",
            "We are fine-tuning resnet34_enc_weak.pth.tar with 500 images p/ label\n",
            "Total accuracy for the encoder resnet34 is: 17.57%\n",
            "We are fine-tuning resnet50_enc_weak.pth.tar with 100 images p/ label\n",
            "Total accuracy for the encoder resnet50 is: 17.57%\n",
            "We are fine-tuning resnet50_enc_weak.pth.tar with 250 images p/ label\n",
            "Total accuracy for the encoder resnet50 is: 17.58%\n",
            "We are fine-tuning resnet50_enc_weak.pth.tar with 500 images p/ label\n",
            "Total accuracy for the encoder resnet50 is: 14.24%\n"
          ]
        }
      ],
      "source": [
        "\n",
        "from encoders import enc_classifier\n",
        "from utils import epoch_loop_nofix,validate\n",
        "from itertools import product\n",
        "from utils import labelset_split\n",
        "\n",
        "models = ['resnet18','resnet34','resnet50']\n",
        "label_samples = [100,250,500]\n",
        "\n",
        "for model_str,n_labels in product(models,label_samples):\n",
        "    save_path = model_str+\"_enc_weak\"+\".pth.tar\"\n",
        "    if model_str=='resnet18':\n",
        "        continue\n",
        "    print(\"We are fine-tuning {} with {} images p/ label\".format(save_path,n_labels))\n",
        "    labelled_filtered_set,val_set = labelset_split(labelled_set,n_per_label=n_labels)\n",
        "    label_loader = DataLoader(labelled_filtered_set,batch_size=batch_size,shuffle=True, pin_memory=True, num_workers=num_workers,persistent_workers=True)\n",
        "    val_loader = DataLoader(val_set,batch_size=batch_size,shuffle=True, pin_memory=True, num_workers=num_workers,persistent_workers=True)\n",
        "\n",
        "    model = enc_classifier(save_path,resnet=model_str,num_classes=2)\n",
        "    model.to(device)\n",
        "\n",
        "    optimizer = torch.optim.SGD(model.parameters(), lr=lr,momentum=momentum, weight_decay=weight_decay,nesterov=nesterov)\n",
        "\n",
        "    epoch_loop_nofix(model,label_loader,val_loader,optimizer,criterion,device,epochs,verbose=False,save_path='class_'+save_path) \n",
        "    \n",
        "\n",
        "    _,total_acc = validate(model,test_loader,criterion,device,True)\n",
        "\n",
        "    print(\"Total accuracy for the encoder {} is: {:.2f}%\".format(model_str,total_acc))\n"
      ]
    }
  ],
  "metadata": {
    "accelerator": "GPU",
    "colab": {
      "gpuType": "T4",
      "provenance": []
    },
    "kernelspec": {
      "display_name": "Python 3 (ipykernel)",
      "language": "python",
      "name": "python3"
    },
    "language_info": {
      "codemirror_mode": {
        "name": "ipython",
        "version": 3
      },
      "file_extension": ".py",
      "mimetype": "text/x-python",
      "name": "python",
      "nbconvert_exporter": "python",
      "pygments_lexer": "ipython3",
      "version": "3.10.12"
    },
    "widgets": {
      "application/vnd.jupyter.widget-state+json": {
        "00105de0b1f348709a372cc9a7c79246": {
          "model_module": "@jupyter-widgets/controls",
          "model_module_version": "1.5.0",
          "model_name": "HBoxModel",
          "state": {
            "_dom_classes": [],
            "_model_module": "@jupyter-widgets/controls",
            "_model_module_version": "1.5.0",
            "_model_name": "HBoxModel",
            "_view_count": null,
            "_view_module": "@jupyter-widgets/controls",
            "_view_module_version": "1.5.0",
            "_view_name": "HBoxView",
            "box_style": "",
            "children": [
              "IPY_MODEL_81e147eb5cd8409f81fa238a02967e17",
              "IPY_MODEL_36a8cc3f9fea43eea999533fcf2b6c57",
              "IPY_MODEL_8a121fe4cde44f559c80b8180db3acd5"
            ],
            "layout": "IPY_MODEL_314a3997a1cd43d186c04926a5cf677c"
          }
        },
        "314a3997a1cd43d186c04926a5cf677c": {
          "model_module": "@jupyter-widgets/base",
          "model_module_version": "1.2.0",
          "model_name": "LayoutModel",
          "state": {
            "_model_module": "@jupyter-widgets/base",
            "_model_module_version": "1.2.0",
            "_model_name": "LayoutModel",
            "_view_count": null,
            "_view_module": "@jupyter-widgets/base",
            "_view_module_version": "1.2.0",
            "_view_name": "LayoutView",
            "align_content": null,
            "align_items": null,
            "align_self": null,
            "border": null,
            "bottom": null,
            "display": null,
            "flex": null,
            "flex_flow": null,
            "grid_area": null,
            "grid_auto_columns": null,
            "grid_auto_flow": null,
            "grid_auto_rows": null,
            "grid_column": null,
            "grid_gap": null,
            "grid_row": null,
            "grid_template_areas": null,
            "grid_template_columns": null,
            "grid_template_rows": null,
            "height": null,
            "justify_content": null,
            "justify_items": null,
            "left": null,
            "margin": null,
            "max_height": null,
            "max_width": null,
            "min_height": null,
            "min_width": null,
            "object_fit": null,
            "object_position": null,
            "order": null,
            "overflow": null,
            "overflow_x": null,
            "overflow_y": null,
            "padding": null,
            "right": null,
            "top": null,
            "visibility": null,
            "width": null
          }
        },
        "36a8cc3f9fea43eea999533fcf2b6c57": {
          "model_module": "@jupyter-widgets/controls",
          "model_module_version": "1.5.0",
          "model_name": "FloatProgressModel",
          "state": {
            "_dom_classes": [],
            "_model_module": "@jupyter-widgets/controls",
            "_model_module_version": "1.5.0",
            "_model_name": "FloatProgressModel",
            "_view_count": null,
            "_view_module": "@jupyter-widgets/controls",
            "_view_module_version": "1.5.0",
            "_view_name": "ProgressView",
            "bar_style": "danger",
            "description": "",
            "description_tooltip": null,
            "layout": "IPY_MODEL_38de052e9eef499d85158f0eccd376df",
            "max": 197,
            "min": 0,
            "orientation": "horizontal",
            "style": "IPY_MODEL_92b0659f2d3b470e840ff582981b4955",
            "value": 0
          }
        },
        "38de052e9eef499d85158f0eccd376df": {
          "model_module": "@jupyter-widgets/base",
          "model_module_version": "1.2.0",
          "model_name": "LayoutModel",
          "state": {
            "_model_module": "@jupyter-widgets/base",
            "_model_module_version": "1.2.0",
            "_model_name": "LayoutModel",
            "_view_count": null,
            "_view_module": "@jupyter-widgets/base",
            "_view_module_version": "1.2.0",
            "_view_name": "LayoutView",
            "align_content": null,
            "align_items": null,
            "align_self": null,
            "border": null,
            "bottom": null,
            "display": null,
            "flex": null,
            "flex_flow": null,
            "grid_area": null,
            "grid_auto_columns": null,
            "grid_auto_flow": null,
            "grid_auto_rows": null,
            "grid_column": null,
            "grid_gap": null,
            "grid_row": null,
            "grid_template_areas": null,
            "grid_template_columns": null,
            "grid_template_rows": null,
            "height": null,
            "justify_content": null,
            "justify_items": null,
            "left": null,
            "margin": null,
            "max_height": null,
            "max_width": null,
            "min_height": null,
            "min_width": null,
            "object_fit": null,
            "object_position": null,
            "order": null,
            "overflow": null,
            "overflow_x": null,
            "overflow_y": null,
            "padding": null,
            "right": null,
            "top": null,
            "visibility": null,
            "width": null
          }
        },
        "6dd397ff988e45ab9d037eb8d853ecd7": {
          "model_module": "@jupyter-widgets/base",
          "model_module_version": "1.2.0",
          "model_name": "LayoutModel",
          "state": {
            "_model_module": "@jupyter-widgets/base",
            "_model_module_version": "1.2.0",
            "_model_name": "LayoutModel",
            "_view_count": null,
            "_view_module": "@jupyter-widgets/base",
            "_view_module_version": "1.2.0",
            "_view_name": "LayoutView",
            "align_content": null,
            "align_items": null,
            "align_self": null,
            "border": null,
            "bottom": null,
            "display": null,
            "flex": null,
            "flex_flow": null,
            "grid_area": null,
            "grid_auto_columns": null,
            "grid_auto_flow": null,
            "grid_auto_rows": null,
            "grid_column": null,
            "grid_gap": null,
            "grid_row": null,
            "grid_template_areas": null,
            "grid_template_columns": null,
            "grid_template_rows": null,
            "height": null,
            "justify_content": null,
            "justify_items": null,
            "left": null,
            "margin": null,
            "max_height": null,
            "max_width": null,
            "min_height": null,
            "min_width": null,
            "object_fit": null,
            "object_position": null,
            "order": null,
            "overflow": null,
            "overflow_x": null,
            "overflow_y": null,
            "padding": null,
            "right": null,
            "top": null,
            "visibility": null,
            "width": null
          }
        },
        "81e147eb5cd8409f81fa238a02967e17": {
          "model_module": "@jupyter-widgets/controls",
          "model_module_version": "1.5.0",
          "model_name": "HTMLModel",
          "state": {
            "_dom_classes": [],
            "_model_module": "@jupyter-widgets/controls",
            "_model_module_version": "1.5.0",
            "_model_name": "HTMLModel",
            "_view_count": null,
            "_view_module": "@jupyter-widgets/controls",
            "_view_module_version": "1.5.0",
            "_view_name": "HTMLView",
            "description": "",
            "description_tooltip": null,
            "layout": "IPY_MODEL_97ec086e67454157b6923f089aae3fcb",
            "placeholder": "​",
            "style": "IPY_MODEL_b212b36979d0402d852d4ce34078aa50",
            "value": "  0%"
          }
        },
        "8a121fe4cde44f559c80b8180db3acd5": {
          "model_module": "@jupyter-widgets/controls",
          "model_module_version": "1.5.0",
          "model_name": "HTMLModel",
          "state": {
            "_dom_classes": [],
            "_model_module": "@jupyter-widgets/controls",
            "_model_module_version": "1.5.0",
            "_model_name": "HTMLModel",
            "_view_count": null,
            "_view_module": "@jupyter-widgets/controls",
            "_view_module_version": "1.5.0",
            "_view_name": "HTMLView",
            "description": "",
            "description_tooltip": null,
            "layout": "IPY_MODEL_6dd397ff988e45ab9d037eb8d853ecd7",
            "placeholder": "​",
            "style": "IPY_MODEL_d5dfa2887a6f4d8abbe67f354e977927",
            "value": " 0/197 [00:03&lt;?, ?it/s]"
          }
        },
        "92b0659f2d3b470e840ff582981b4955": {
          "model_module": "@jupyter-widgets/controls",
          "model_module_version": "1.5.0",
          "model_name": "ProgressStyleModel",
          "state": {
            "_model_module": "@jupyter-widgets/controls",
            "_model_module_version": "1.5.0",
            "_model_name": "ProgressStyleModel",
            "_view_count": null,
            "_view_module": "@jupyter-widgets/base",
            "_view_module_version": "1.2.0",
            "_view_name": "StyleView",
            "bar_color": null,
            "description_width": ""
          }
        },
        "97ec086e67454157b6923f089aae3fcb": {
          "model_module": "@jupyter-widgets/base",
          "model_module_version": "1.2.0",
          "model_name": "LayoutModel",
          "state": {
            "_model_module": "@jupyter-widgets/base",
            "_model_module_version": "1.2.0",
            "_model_name": "LayoutModel",
            "_view_count": null,
            "_view_module": "@jupyter-widgets/base",
            "_view_module_version": "1.2.0",
            "_view_name": "LayoutView",
            "align_content": null,
            "align_items": null,
            "align_self": null,
            "border": null,
            "bottom": null,
            "display": null,
            "flex": null,
            "flex_flow": null,
            "grid_area": null,
            "grid_auto_columns": null,
            "grid_auto_flow": null,
            "grid_auto_rows": null,
            "grid_column": null,
            "grid_gap": null,
            "grid_row": null,
            "grid_template_areas": null,
            "grid_template_columns": null,
            "grid_template_rows": null,
            "height": null,
            "justify_content": null,
            "justify_items": null,
            "left": null,
            "margin": null,
            "max_height": null,
            "max_width": null,
            "min_height": null,
            "min_width": null,
            "object_fit": null,
            "object_position": null,
            "order": null,
            "overflow": null,
            "overflow_x": null,
            "overflow_y": null,
            "padding": null,
            "right": null,
            "top": null,
            "visibility": null,
            "width": null
          }
        },
        "b212b36979d0402d852d4ce34078aa50": {
          "model_module": "@jupyter-widgets/controls",
          "model_module_version": "1.5.0",
          "model_name": "DescriptionStyleModel",
          "state": {
            "_model_module": "@jupyter-widgets/controls",
            "_model_module_version": "1.5.0",
            "_model_name": "DescriptionStyleModel",
            "_view_count": null,
            "_view_module": "@jupyter-widgets/base",
            "_view_module_version": "1.2.0",
            "_view_name": "StyleView",
            "description_width": ""
          }
        },
        "d5dfa2887a6f4d8abbe67f354e977927": {
          "model_module": "@jupyter-widgets/controls",
          "model_module_version": "1.5.0",
          "model_name": "DescriptionStyleModel",
          "state": {
            "_model_module": "@jupyter-widgets/controls",
            "_model_module_version": "1.5.0",
            "_model_name": "DescriptionStyleModel",
            "_view_count": null,
            "_view_module": "@jupyter-widgets/base",
            "_view_module_version": "1.2.0",
            "_view_name": "StyleView",
            "description_width": ""
          }
        }
      }
    }
  },
  "nbformat": 4,
  "nbformat_minor": 0
}
